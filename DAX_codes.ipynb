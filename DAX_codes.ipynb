{
 "cells": [
  {
   "cell_type": "markdown",
   "metadata": {},
   "source": [
    "## **Business Case - Dashboard de Acompanhamento de Alunos**"
   ]
  },
  {
   "cell_type": "markdown",
   "metadata": {},
   "source": [
    "### Códigos DAX utilizados nas medidas do Dashboard"
   ]
  },
  {
   "cell_type": "markdown",
   "metadata": {},
   "source": [
    "#### Introdução\n",
    "\n",
    "Este notebook contém uma explicação detalhada das fórmulas DAX utilizadas no desenvolvimento do **Dashboard de Acompanhamento de Alunos** no Power BI.\n"
   ]
  },
  {
   "cell_type": "markdown",
   "metadata": {},
   "source": [
    "### **1. Índice de Massa Corporal (IMC)**\n",
    "#### Descrição:\n",
    "O IMC é uma medida utilizada para avaliar se o peso da pessoa está adequado à sua altura."
   ]
  },
  {
   "cell_type": "code",
   "execution_count": null,
   "metadata": {
    "vscode": {
     "languageId": "plaintext"
    }
   },
   "outputs": [],
   "source": [
    "IMC = \n",
    "IF(\n",
    "    HASONEVALUE(Cadastro[Aluno]),\n",
    "    DIVIDE(\n",
    "        SUM('Avaliações'[Peso (kg)]),\n",
    "        (SUM(Cadastro[Altura]) * SUM(Cadastro[Altura]))\n",
    "    ),\n",
    "    BLANK()\n",
    ")"
   ]
  },
  {
   "cell_type": "markdown",
   "metadata": {},
   "source": [
    "### **2. Classificação do IMC**\n",
    "#### Descrição:\n",
    "Código para classificar se o aluno está abaixo do peso, peso normal, acima do peso ou com obesidade, com base no IMC calculado."
   ]
  },
  {
   "cell_type": "code",
   "execution_count": null,
   "metadata": {
    "vscode": {
     "languageId": "plaintext"
    }
   },
   "outputs": [],
   "source": [
    "Classificação IMC = \n",
    "VAR IMC_Value = \n",
    "    IF(\n",
    "        HASONEVALUE(Cadastro[Aluno]),\n",
    "        DIVIDE(\n",
    "            SUM('Avaliações'[Peso (kg)]),\n",
    "            (SUM(Cadastro[Altura]) * SUM(Cadastro[Altura]))\n",
    "        ),\n",
    "        BLANK()\n",
    "    )\n",
    "RETURN\n",
    "    SWITCH(\n",
    "        TRUE(),\n",
    "        ISBLANK(IMC_Value), \"Selecione um único aluno\",\n",
    "        IMC_Value < 18.5, \"Abaixo do Peso\",\n",
    "        IMC_Value >= 18.5 && IMC_Value < 24.9, \"Peso Normal\",\n",
    "        IMC_Value >= 25 && IMC_Value < 29.9, \"Sobrepeso\",\n",
    "        IMC_Value >= 30, \"Obesidade\",\n",
    "        \"Dados Inválidos\"\n",
    "    )"
   ]
  },
  {
   "cell_type": "markdown",
   "metadata": {},
   "source": [
    "### **3. Razão Cintura-Quadril (RCQ)**\n",
    "#### Descrição:\n",
    "A relação cintura-quadril (RCQ) é o cálculo que se faz a partir das medidas da cintura e do quadril para verificar o risco que uma pessoa tem de desenvolver uma doença cardiovascular. Isso acontece porque, quanto maior a concentração da gordura abdominal, maior o risco de ter problemas como colesterol alto, diabetes, pressão alta ou aterosclerose."
   ]
  },
  {
   "cell_type": "code",
   "execution_count": null,
   "metadata": {
    "vscode": {
     "languageId": "plaintext"
    }
   },
   "outputs": [],
   "source": [
    "RCQ = \n",
    "\n",
    "    IF(\n",
    "        HASONEVALUE(Cadastro[Aluno]),\n",
    "        DIVIDE(\n",
    "            SUM('Avaliações'[Medida Cintura (cm)]),\n",
    "            SUM('Avaliações'[Medida Quadril (cm)])\n",
    "        ),\n",
    "        BLANK()\n",
    "    )"
   ]
  },
  {
   "cell_type": "markdown",
   "metadata": {},
   "source": [
    "### **4. Classificação do RCQ**\n",
    "#### Descrição:\n",
    "Código para classificar o risco que o aluno tem de desenvolver doença cardiovascular. Os valores são diferentes entre homens e mulheres."
   ]
  },
  {
   "cell_type": "code",
   "execution_count": null,
   "metadata": {
    "vscode": {
     "languageId": "plaintext"
    }
   },
   "outputs": [],
   "source": [
    "Classificação RCQ = \n",
    "VAR RQC_Value = \n",
    "    IF(\n",
    "        HASONEVALUE(Cadastro[Aluno]),\n",
    "        DIVIDE(\n",
    "            SUM('Avaliações'[Medida Cintura (cm)]),\n",
    "            SUM('Avaliações'[Medida Quadril (cm)])\n",
    "        ),\n",
    "        BLANK()\n",
    "    )\n",
    "VAR Genero_Aluno = SELECTEDVALUE(Cadastro[Sexo])\n",
    "RETURN\n",
    "    SWITCH(\n",
    "        TRUE(),\n",
    "        ISBLANK(RQC_Value), \"Selecione um único aluno\",\n",
    "        Genero_Aluno = \"Masculino\",\n",
    "            SWITCH(\n",
    "                TRUE(),\n",
    "                RQC_Value < 0.95, \"Baixo\",\n",
    "                RQC_Value >= 0.95 && RQC_Value < 1, \"Moderado\",\n",
    "                RQC_Value >= 1, \"Alto\",\n",
    "                \"Dados Inválidos\"\n",
    "            ),\n",
    "        Genero_Aluno = \"Feminino\",\n",
    "            SWITCH(\n",
    "                TRUE(),\n",
    "                RQC_Value < 0.8, \"Baixo\",\n",
    "                RQC_Value >= 0.8 && RQC_Value < 0.85, \"Moderado\",\n",
    "                RQC_Value >= 0.85, \"Alto\",\n",
    "                \"Dados Inválidos\"\n",
    "            ),\n",
    "        \"Gênero Não Definido\"\n",
    "    )\n"
   ]
  },
  {
   "cell_type": "markdown",
   "metadata": {},
   "source": [
    "### **5. Percentual de Gordura Corporal - Método Pollack 7 Dobras**\n",
    "\n",
    "#### Descrição:\n",
    "O método Pollack de 7 dobras calcula o percentual de gordura corporal com base na medição da espessura da pele em sete locais do corpo: peitoral, abdominal, coxa, axilar média, supra-ilíaca, subescapular e tríceps. A fórmula utiliza uma condição para aplicar o cálculo correto, baseado no gênero (masculino ou feminino).\n"
   ]
  },
  {
   "cell_type": "code",
   "execution_count": null,
   "metadata": {
    "vscode": {
     "languageId": "plaintext"
    }
   },
   "outputs": [],
   "source": [
    "% Gordura = \n",
    "VAR Densidade_Homem = \n",
    "    IF(\n",
    "        SELECTEDVALUE(Cadastro[Sexo]) = \"Masculino\",\n",
    "        1.112 - (0.00043499 * [Somatória 7 Dobras]) + \n",
    "        (0.00000055 * ([Somatória 7 Dobras] ^ 2)) - \n",
    "        (0.00028826 * SELECTEDVALUE(Cadastro[Idade])),\n",
    "        BLANK()\n",
    "    )\n",
    "VAR Densidade_Mulher = \n",
    "    IF(\n",
    "        SELECTEDVALUE(Cadastro[Sexo]) = \"Feminino\",\n",
    "        1.097 - (0.00046971 * [Somatória 7 Dobras]) + \n",
    "        (0.00000056 * ([Somatória 7 Dobras] ^ 2)) - \n",
    "        (0.00012828 * SELECTEDVALUE(Cadastro[Idade])),\n",
    "        BLANK()\n",
    "    )\n",
    "VAR Densidade = \n",
    "    IF(\n",
    "        SELECTEDVALUE(Cadastro[Sexo]) = \"Masculino\",\n",
    "        Densidade_Homem,\n",
    "        Densidade_Mulher\n",
    "    )\n",
    "RETURN\n",
    "    IF(\n",
    "        NOT(ISBLANK(Densidade)),\n",
    "        ((4.95 / Densidade) - 4.5) * 100,\n",
    "        BLANK()\n",
    "    )\n"
   ]
  }
 ],
 "metadata": {
  "language_info": {
   "name": "python"
  }
 },
 "nbformat": 4,
 "nbformat_minor": 2
}
